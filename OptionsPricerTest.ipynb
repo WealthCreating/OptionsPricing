{
 "cells": [
  {
   "cell_type": "code",
   "execution_count": 1,
   "metadata": {},
   "outputs": [],
   "source": [
    "from OptionsPricer import OptionsPricer\n",
    "from GenerateStockPricePaths import GenerateStockPricePaths\n",
    "import unittest as ut"
   ]
  },
  {
   "cell_type": "code",
   "execution_count": 2,
   "metadata": {},
   "outputs": [],
   "source": [
    "\"\"\"Test class aiming to test OptionsPricer class.\"\"\"\n",
    "\n",
    "class OptionsPricerTest(OptionsPricer, ut.TestCase):\n",
    "    def __init_(self, stockPaths, rf, K, T):\n",
    "        OptionsPricer.__init__(stockPaths, rf, K, T)\n",
    "        ut.TestCase.__init__(self)"
   ]
  },
  {
   "cell_type": "code",
   "execution_count": 3,
   "metadata": {},
   "outputs": [],
   "source": [
    "\"\"\"Functions used in the tests to be used in the assertEqual method.\"\"\"\n",
    "from scipy.stats import norm\n",
    "import numpy as np\n",
    "def BSClosedForm(ST,K,rf,vol,T, option = \"call\"):\n",
    "    num_d1 = np.log(ST/K)+(rf+vol**2/2)*T\n",
    "    denom_d1 = vol*np.sqrt(T)\n",
    "    d1 = num_d1/denom_d1\n",
    "    d2 = d1-vol*np.sqrt(T)\n",
    "    discountedK = K*np.exp(-rf*T)\n",
    "    callPrice = norm.cdf(d1)*ST-norm.cdf(d2)*discountedK\n",
    "    if option == \"call\":\n",
    "        return callPrice\n",
    "    else:\n",
    "        \"\"\"Derive price of put using put-call parity\"\"\"\n",
    "        putPrice = discountedK-ST+callPrice\n",
    "        return putPrice"
   ]
  },
  {
   "cell_type": "markdown",
   "metadata": {},
   "source": [
    "I used Antithetic Sampling technique in order to improve my Monte-Carlo estimations.\n",
    "However, there is still some room for improvement when it comes to the convergence of error rates."
   ]
  },
  {
   "cell_type": "code",
   "execution_count": 4,
   "metadata": {},
   "outputs": [],
   "source": [
    "if __name__ == \"__main__\":\n",
    "    S0_ = 100\n",
    "    vol_ = 0.2\n",
    "    rf_ = 0.05\n",
    "    T_ = 1\n",
    "    K_ = 100\n",
    "    stockPrices = GenerateStockPricePaths(S0_,vol_,rf_, N = 500000)\n",
    "    BSStockPrices = stockPrices.BSPaths()\n",
    "    test = OptionsPricerTest(BSStockPrices, rf = rf_, K = K_ ,T = T_)\n",
    "    \"\"\"Series of unit tests that check methods in the OptionsPricer class\"\"\"\n",
    "    test.assertAlmostEqual(test.callEU(),BSClosedForm(S0_,K_,rf_,vol_,T_), places = 1)\n",
    "    test.assertAlmostEqual(test.putEU(),BSClosedForm(S0_,K_,rf_,vol_,T_,option=\"put\"), places = 1)"
   ]
  }
 ],
 "metadata": {
  "kernelspec": {
   "display_name": "Python 3",
   "language": "python",
   "name": "python3"
  },
  "language_info": {
   "codemirror_mode": {
    "name": "ipython",
    "version": 3
   },
   "file_extension": ".py",
   "mimetype": "text/x-python",
   "name": "python",
   "nbconvert_exporter": "python",
   "pygments_lexer": "ipython3",
   "version": "3.7.7"
  }
 },
 "nbformat": 4,
 "nbformat_minor": 4
}
