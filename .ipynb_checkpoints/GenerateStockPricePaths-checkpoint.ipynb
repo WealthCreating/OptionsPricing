{
 "cells": [
  {
   "cell_type": "code",
   "execution_count": 1,
   "metadata": {},
   "outputs": [],
   "source": [
    "import numpy as np"
   ]
  },
  {
   "cell_type": "code",
   "execution_count": 8,
   "metadata": {},
   "outputs": [],
   "source": [
    "\"\"\"Class that provides methods to generate stock price paths according to different processes.\n",
    "Euler method is implemented to simulate continuous processes thanks to discretinised versions.\"\"\"\n",
    "\n",
    "class GenerateStockPricePaths():\n",
    "    \n",
    "    \"\"\"S0: initial price of asset\n",
    "       vol: volatility\n",
    "       rf: risk free rate\n",
    "       N: number of paths\n",
    "       steps: number of steps\n",
    "       T: horizon given in years\"\"\"\n",
    "    \n",
    "    def __init__(self,S0,vol,rf,N = 10000,steps = 252,T = 1):\n",
    "        self.S0 = S0\n",
    "        self.vol = vol\n",
    "        self.rf = rf\n",
    "        self.N = N\n",
    "        self.steps = steps\n",
    "        self.T = T\n",
    "    \n",
    "    @property\n",
    "    \n",
    "    def S0(self):\n",
    "        return self.__S0\n",
    "    \n",
    "    @property\n",
    "    \n",
    "    def vol(self):\n",
    "        return self.__vol\n",
    "    \n",
    "    @property\n",
    "    \n",
    "    def rf(self):\n",
    "        return self.__rf\n",
    "    \n",
    "    @property\n",
    "    \n",
    "    def N(self):\n",
    "        return self.__N\n",
    "    \n",
    "    @property\n",
    "    \n",
    "    def steps(self):\n",
    "        return self.__steps\n",
    "    \n",
    "    @property\n",
    "    \n",
    "    def T(self):\n",
    "        return self.__T\n",
    "    \n",
    "    @S0.setter\n",
    "    \n",
    "    def S0(self, S0):\n",
    "        self.__S0 = S0\n",
    "        \n",
    "    @vol.setter\n",
    "    \n",
    "    def vol(self, vol):\n",
    "        self.__vol = vol\n",
    "        \n",
    "    @rf.setter\n",
    "    \n",
    "    def rf(self, rf):\n",
    "        self.__rf = rf\n",
    "        \n",
    "    @N.setter\n",
    "    \n",
    "    def N(self, N):\n",
    "        self.__N = N\n",
    "    \n",
    "    @steps.setter\n",
    "    \n",
    "    def steps(self, steps):\n",
    "        self.__steps = steps\n",
    "        \n",
    "    @T.setter\n",
    "    \n",
    "    def T(self, T):\n",
    "        self.__T = T\n",
    "        \n",
    "    \"\"\"Generate paths using Black-Scholes without jumps.\"\"\"\n",
    "    \n",
    "    def BSPaths(self):\n",
    "        dt = self.T/self.steps\n",
    "        logS0 = np.log(self.S0)\n",
    "        epsMatrix = np.random.normal(size=(self.N,self.steps))\n",
    "        dlogSMatrix = (self.rf-self.vol**2/2)*dt+self.vol*np.sqrt(dt)*epsMatrix\n",
    "        pathsMatrix = np.zeros(shape=(self.N,self.steps))\n",
    "        pathsMatrix[:,0] = logS0\n",
    "        for i in range(1, self.steps):\n",
    "            pathsMatrix[:,i] = pathsMatrix[:,i-1]+dlogSMatrix[:,i]\n",
    "        pathsMatrix = np.exp(pathsMatrix)\n",
    "        return pathsMatrix\n",
    "    \n",
    "    \"\"\"Generate paths using Heston model without jumps.\"\"\"\n",
    "    \n",
    "    def HestonPaths(self, kappa, eta, theta, rho, vol0):\n",
    "        \n",
    "        \"\"\"Method that requires parameters for volatility process.\n",
    "           kappa = speed of mean reversion\n",
    "           eta = level mean reversion\n",
    "           theta = vol-of vol\n",
    "           rho = correlation vol-asset\n",
    "           vol0 = initial vol of asset\"\"\"\n",
    "        dt = self.T/self.steps\n",
    "\n",
    "        def twoBrownianMotionCorrelated(correlation,simulations,nsteps):\n",
    "            \"\"\"Function that generate dim normal random variables\n",
    "               that have a rho correlation.\n",
    "               Tool used: Cholesky decomposition.\"\"\"\n",
    "            covariance = np.array(([1,correlation],[correlation,1]))\n",
    "            cholesky = np.linalg.cholesky(covariance)\n",
    "            epsMatrix1 = np.zeros(shape = (simulations, nsteps))\n",
    "            epsMatrix2 = np.zeros(shape = (simulations, nsteps))\n",
    "            for i in range(nsteps):\n",
    "                np.random.seed(123)\n",
    "                normal = np.random.normal(size=(2,simulations))\n",
    "                helper = np.dot(cholesky,normal)\n",
    "                epsMatrix1[:,i] = helper[0,:]\n",
    "                epsMatrix2[:,i] = helper[1,:]\n",
    "            return (epsMatrix1, epsMatrix2)\n",
    "\n",
    "        volPaths = np.zeros(shape=(self.N,self.steps))\n",
    "        volPaths[:,0] = vol0\n",
    "        logS = np.zeros(shape=(self.N,self.steps))\n",
    "        logS[:,0] = np.log(self.S0)\n",
    "        eps1 = twoBrownianMotionCorrelated(rho,self.N,self.steps)[0]\n",
    "        eps2 = twoBrownianMotionCorrelated(rho,self.N,self.steps)[1]\n",
    "        for i in range(1,self.steps):\n",
    "            volPaths[:,i-1] = np.abs(volPaths[:,i-1])\n",
    "            volPaths[:,i] = (volPaths[:,i-1])+kappa*(eta-volPaths[:,i-1])*dt+theta*np.sqrt(np.abs(volPaths[:,i-1]))*eps1[:,i]\n",
    "        dlogSMatrix = (self.rf-volPaths/2)*dt+volPaths*np.sqrt(dt)*eps2\n",
    "        for i in range(1,self.steps):\n",
    "            logS[:,i] = logS[:,i-1]+dlogSMatrix[:,i]\n",
    "        pathsMatrix = np.exp(logS)\n",
    "        return (volPaths,pathsMatrix)"
   ]
  },
  {
   "cell_type": "code",
   "execution_count": 9,
   "metadata": {},
   "outputs": [],
   "source": [
    "check = GenerateStockPricePaths(100,0.2,0.05 , N = 100)"
   ]
  },
  {
   "cell_type": "code",
   "execution_count": 10,
   "metadata": {},
   "outputs": [
    {
     "ename": "ValueError",
     "evalue": "operands could not be broadcast together with shapes (0,252) (100,) ",
     "output_type": "error",
     "traceback": [
      "\u001b[0;31m---------------------------------------------------------------------------\u001b[0m",
      "\u001b[0;31mValueError\u001b[0m                                Traceback (most recent call last)",
      "\u001b[0;32m<ipython-input-10-bad2e910d839>\u001b[0m in \u001b[0;36m<module>\u001b[0;34m\u001b[0m\n\u001b[1;32m      1\u001b[0m matrix = check.HestonPaths(kappa = 2.00, eta = 5.16*10**(-5), \n\u001b[0;32m----> 2\u001b[0;31m                            theta = 2.38*10**(-3), rho = 0.5, vol0 = 0.2)\n\u001b[0m",
      "\u001b[0;32m<ipython-input-8-392b3bd557c1>\u001b[0m in \u001b[0;36mHestonPaths\u001b[0;34m(self, kappa, eta, theta, rho, vol0)\u001b[0m\n\u001b[1;32m    130\u001b[0m             \u001b[0mvolPaths\u001b[0m\u001b[0;34m[\u001b[0m\u001b[0;34m:\u001b[0m\u001b[0;34m,\u001b[0m\u001b[0mi\u001b[0m\u001b[0;34m]\u001b[0m \u001b[0;34m=\u001b[0m \u001b[0mvolPaths\u001b[0m\u001b[0;34m[\u001b[0m\u001b[0;34m:\u001b[0m\u001b[0;34m,\u001b[0m\u001b[0mi\u001b[0m\u001b[0;34m-\u001b[0m\u001b[0;36m1\u001b[0m\u001b[0;34m]\u001b[0m\u001b[0;34m+\u001b[0m\u001b[0mkappa\u001b[0m\u001b[0;34m*\u001b[0m\u001b[0;34m(\u001b[0m\u001b[0meta\u001b[0m\u001b[0;34m-\u001b[0m\u001b[0mvolPaths\u001b[0m\u001b[0;34m[\u001b[0m\u001b[0;34m:\u001b[0m\u001b[0;34m,\u001b[0m\u001b[0mi\u001b[0m\u001b[0;34m-\u001b[0m\u001b[0;36m1\u001b[0m\u001b[0;34m]\u001b[0m\u001b[0;34m)\u001b[0m\u001b[0;34m*\u001b[0m\u001b[0mdt\u001b[0m\u001b[0;34m+\u001b[0m\u001b[0mtheta\u001b[0m\u001b[0;34m*\u001b[0m\u001b[0mnp\u001b[0m\u001b[0;34m.\u001b[0m\u001b[0msqrt\u001b[0m\u001b[0;34m(\u001b[0m\u001b[0mnp\u001b[0m\u001b[0;34m.\u001b[0m\u001b[0mabs\u001b[0m\u001b[0;34m(\u001b[0m\u001b[0mvolPaths\u001b[0m\u001b[0;34m[\u001b[0m\u001b[0;34m:\u001b[0m\u001b[0;34m,\u001b[0m\u001b[0mi\u001b[0m\u001b[0;34m-\u001b[0m\u001b[0;36m1\u001b[0m\u001b[0;34m]\u001b[0m\u001b[0;34m)\u001b[0m\u001b[0;34m)\u001b[0m\u001b[0;31m#*eps1[:,i]\u001b[0m\u001b[0;34m\u001b[0m\u001b[0;34m\u001b[0m\u001b[0m\n\u001b[1;32m    131\u001b[0m             \u001b[0mvol\u001b[0m \u001b[0;34m=\u001b[0m \u001b[0mvolPaths\u001b[0m\u001b[0;34m[\u001b[0m\u001b[0;34m:\u001b[0m\u001b[0;34m,\u001b[0m\u001b[0mi\u001b[0m\u001b[0;34m]\u001b[0m\u001b[0;34m\u001b[0m\u001b[0;34m\u001b[0m\u001b[0m\n\u001b[0;32m--> 132\u001b[0;31m             \u001b[0mlogS\u001b[0m\u001b[0;34m[\u001b[0m\u001b[0;34m:\u001b[0m\u001b[0mi\u001b[0m\u001b[0;34m]\u001b[0m \u001b[0;34m=\u001b[0m \u001b[0mlogS\u001b[0m\u001b[0;34m[\u001b[0m\u001b[0;34m:\u001b[0m\u001b[0mi\u001b[0m\u001b[0;34m-\u001b[0m\u001b[0;36m1\u001b[0m\u001b[0;34m]\u001b[0m\u001b[0;34m+\u001b[0m\u001b[0;34m(\u001b[0m\u001b[0mself\u001b[0m\u001b[0;34m.\u001b[0m\u001b[0mrf\u001b[0m\u001b[0;34m-\u001b[0m\u001b[0mvol\u001b[0m\u001b[0;34m/\u001b[0m\u001b[0;36m2\u001b[0m\u001b[0;34m)\u001b[0m\u001b[0;34m*\u001b[0m\u001b[0mdt\u001b[0m\u001b[0;34m+\u001b[0m\u001b[0mnp\u001b[0m\u001b[0;34m.\u001b[0m\u001b[0msqrt\u001b[0m\u001b[0;34m(\u001b[0m\u001b[0mdt\u001b[0m\u001b[0;34m*\u001b[0m\u001b[0mvol\u001b[0m\u001b[0;34m)\u001b[0m\u001b[0;31m#*eps2[:,i]\u001b[0m\u001b[0;34m\u001b[0m\u001b[0;34m\u001b[0m\u001b[0m\n\u001b[0m\u001b[1;32m    133\u001b[0m         \u001b[0mpathsMatrix\u001b[0m \u001b[0;34m=\u001b[0m \u001b[0mnp\u001b[0m\u001b[0;34m.\u001b[0m\u001b[0mexp\u001b[0m\u001b[0;34m(\u001b[0m\u001b[0mlogS\u001b[0m\u001b[0;34m)\u001b[0m\u001b[0;34m\u001b[0m\u001b[0;34m\u001b[0m\u001b[0m\n\u001b[1;32m    134\u001b[0m         \u001b[0;32mreturn\u001b[0m \u001b[0;34m(\u001b[0m\u001b[0mvolPaths\u001b[0m\u001b[0;34m,\u001b[0m\u001b[0mpathsMatrix\u001b[0m\u001b[0;34m)\u001b[0m\u001b[0;34m\u001b[0m\u001b[0;34m\u001b[0m\u001b[0m\n",
      "\u001b[0;31mValueError\u001b[0m: operands could not be broadcast together with shapes (0,252) (100,) "
     ]
    }
   ],
   "source": [
    "matrix = check.HestonPaths(kappa = 2.00, eta = 5.16*10**(-5), \n",
    "                           theta = 2.38*10**(-3), rho = 0.5, vol0 = 0.2)"
   ]
  },
  {
   "cell_type": "code",
   "execution_count": null,
   "metadata": {},
   "outputs": [],
   "source": [
    "import matplotlib.pyplot as plt"
   ]
  },
  {
   "cell_type": "code",
   "execution_count": null,
   "metadata": {},
   "outputs": [],
   "source": [
    "#for i in range(100):\n",
    "plt.plot(check.HestonPaths(kappa = 1,eta = 1,theta = 3,rho = 0.5, vol0 = 0.2)[1,:])"
   ]
  },
  {
   "cell_type": "code",
   "execution_count": null,
   "metadata": {},
   "outputs": [],
   "source": [
    "matrix"
   ]
  },
  {
   "cell_type": "code",
   "execution_count": null,
   "metadata": {},
   "outputs": [],
   "source": [
    "check = np.zeros(shape = (100,252))"
   ]
  },
  {
   "cell_type": "code",
   "execution_count": null,
   "metadata": {},
   "outputs": [],
   "source": [
    "check[:,0] = 0.2"
   ]
  },
  {
   "cell_type": "code",
   "execution_count": null,
   "metadata": {},
   "outputs": [],
   "source": [
    "eps"
   ]
  },
  {
   "cell_type": "code",
   "execution_count": null,
   "metadata": {},
   "outputs": [],
   "source": [
    "dt = 1/252\n",
    "for i in range(1,252):\n",
    "    eps = np.random.normal(size = 100)\n",
    "    check[:,i] = np.abs(check[:,i-1])+k*(np.abs(check[:,i-1]))*dt+theta*np.sqrt(sig*dt*np.abs(check[:,i-1]))*eps\n",
    "    \n",
    "plt.plot(check[8,:])"
   ]
  },
  {
   "cell_type": "code",
   "execution_count": null,
   "metadata": {},
   "outputs": [],
   "source": [
    "check"
   ]
  },
  {
   "cell_type": "code",
   "execution_count": null,
   "metadata": {},
   "outputs": [],
   "source": [
    "k = 2.00"
   ]
  },
  {
   "cell_type": "code",
   "execution_count": null,
   "metadata": {},
   "outputs": [],
   "source": [
    "theta = 5.16*10**(-5)"
   ]
  },
  {
   "cell_type": "code",
   "execution_count": null,
   "metadata": {},
   "outputs": [],
   "source": [
    "sig = 2.38*10**(-3)"
   ]
  },
  {
   "cell_type": "code",
   "execution_count": 82,
   "metadata": {},
   "outputs": [],
   "source": [
    "def HestonPaths(S0,rf,N,steps,T,kappa, eta, theta, rho, vol0):\n",
    "    \n",
    "    dt = T/steps\n",
    "\n",
    "    def twoBrownianMotionCorrelated(correlation,simulations,nsteps):\n",
    "        \"\"\"Function that generate dim normal random variables\n",
    "           that have a rho correlation.\n",
    "           Tool used: Cholesky decomposition.\"\"\"\n",
    "        covariance = np.array(([1,correlation],[correlation,1]))\n",
    "        cholesky = np.linalg.cholesky(covariance)\n",
    "        epsMatrix1 = np.zeros(shape = (simulations, nsteps))\n",
    "        epsMatrix2 = np.zeros(shape = (simulations, nsteps))\n",
    "        for i in range(nsteps):\n",
    "            np.random.seed(123)\n",
    "            normal = np.random.normal(size=(2,simulations))\n",
    "            helper = np.dot(cholesky,normal)\n",
    "            epsMatrix1[:,i] = helper[0,:]\n",
    "            epsMatrix2[:,i] = helper[1,:]\n",
    "        return (epsMatrix1, epsMatrix2)\n",
    "\n",
    "    volPaths = np.zeros(shape=(N,steps))\n",
    "    volPaths[:,0] = vol0\n",
    "    logS = np.zeros(shape=(N,steps))\n",
    "    logS[:,0] = np.log(S0)\n",
    "    eps1 = twoBrownianMotionCorrelated(rho,N,steps)[0]\n",
    "    eps2 = twoBrownianMotionCorrelated(rho,N,steps)[1]\n",
    "    for i in range(1,steps):\n",
    "        volPaths[:,i-1] = np.abs(volPaths[:,i-1])\n",
    "        volPaths[:,i] = (volPaths[:,i-1])+kappa*(eta-volPaths[:,i-1])*dt+theta*np.sqrt(np.abs(volPaths[:,i-1]))*eps1[:,i]\n",
    "\n",
    "    dlogSMatrix = (rf-volPaths/2)*dt+volPaths*np.sqrt(dt)*eps2\n",
    "    for i in range(1, steps):\n",
    "        logS[:,i] = logS[:,i-1]+dlogSMatrix[:,i]\n",
    "    pathsMatrix = np.exp(logS)\n",
    "    return (volPaths,pathsMatrix)"
   ]
  },
  {
   "cell_type": "code",
   "execution_count": 83,
   "metadata": {},
   "outputs": [],
   "source": [
    "check = HestonPaths(100,0.05,100,252,1,2,5.16*10**(-5),2.38*10**(-3),-0.5,0.2)"
   ]
  },
  {
   "cell_type": "code",
   "execution_count": 84,
   "metadata": {},
   "outputs": [
    {
     "data": {
      "image/png": "[encoded data removed]",
      "text/plain": [
       "<Figure size 432x288 with 1 Axes>"
      ]
     },
     "metadata": {
      "needs_background": "light"
     },
     "output_type": "display_data"
    }
   ],
   "source": [
    "import matplotlib.pyplot as plt\n",
    "for i in range(100):\n",
    "    plt.plot(check[1][i,:])"
   ]
  },
  {
   "cell_type": "code",
   "execution_count": 71,
   "metadata": {},
   "outputs": [
    {
     "data": {
      "text/plain": [
       "array([104.36537737,  98.500714  ,  98.61143978,  96.3889795 ,\n",
       "        99.95634194, 102.77085217,  95.21773177,  98.13199956,\n",
       "       100.08142964, 102.38855806, 101.0585494 , 100.8975104 ,\n",
       "        99.35034759, 101.33930948, 102.86352736,  95.30456722,\n",
       "       102.05719943,  99.70171859,  98.50047912,  93.34953262,\n",
       "        96.17451677, 104.8791927 ,  98.07229458,  96.97354158,\n",
       "        98.71268751,  97.91535364, 100.33062346, 104.31138612,\n",
       "        98.34887085, 100.41344119,  96.81541917, 104.30455483,\n",
       "       100.51007017,  96.99678034, 102.55617318, 103.40269679,\n",
       "       100.43446118,  95.47719697, 105.10396339, 100.85490735,\n",
       "       103.31146316,  98.45429237,  98.86963505, 100.29118162,\n",
       "       103.15620775, 100.3824202 ,  96.4937037 , 100.71890896,\n",
       "       104.67048436, 100.16589482, 100.34312533,  96.51024886,\n",
       "        96.1029413 ,  98.21131402,  99.06855674, 100.2734498 ,\n",
       "       100.44806984, 104.59874337, 100.14559883, 103.02026555,\n",
       "        99.87059213, 104.13788165,  94.86425895,  98.32096564,\n",
       "       102.78714857,  99.49902547, 102.62859216, 101.06597719,\n",
       "       102.66108738, 101.71616878, 101.89064566, 104.2468084 ,\n",
       "       102.79522531, 102.79956183, 100.0378966 ,  98.3566979 ,\n",
       "        98.1491901 , 102.10885351,  93.38285833,  96.39530184,\n",
       "        97.30522586,  99.28961812,  92.83330945, 103.58257383,\n",
       "       101.67710685, 105.68910493, 102.99942478, 102.90390177,\n",
       "       106.5353267 ,  98.39072364,  95.83766479,  99.33320363,\n",
       "        97.69146262,  99.25999961,  97.07978472, 101.59063613,\n",
       "       101.42600171,  99.90553865, 100.85924537,  99.58323831])"
      ]
     },
     "execution_count": 71,
     "metadata": {},
     "output_type": "execute_result"
    }
   ],
   "source": [
    "100*np.exp((0.05-check[:,1]/2)*(1/252)+np.sqrt(check[:,1]*(1/252))*np.random.normal(size=(100)))"
   ]
  },
  {
   "cell_type": "code",
   "execution_count": 23,
   "metadata": {},
   "outputs": [],
   "source": [
    "def twoBrownianMotionCorrelated(correlation,simulations,nsteps):\n",
    "    \"\"\"Function that generate dim normal random variables\n",
    "       that have a rho correlation.\n",
    "       Tool used: Cholesky decomposition.\"\"\"\n",
    "    covariance = np.array(([1,correlation],[correlation,1]))\n",
    "    cholesky = np.linalg.cholesky(covariance)\n",
    "    epsMatrix1 = np.zeros(shape = (simulations, nsteps))\n",
    "    epsMatrix2 = np.zeros(shape = (simulations, nsteps))\n",
    "    for i in range(nsteps):\n",
    "        np.random.seed(123)\n",
    "        normal = np.random.normal(size=(2,simulations))\n",
    "        helper = np.dot(cholesky,normal)\n",
    "        epsMatrix1[:,i] = helper[0,:]\n",
    "        epsMatrix2[:,i] = helper[1,:]\n",
    "    return (epsMatrix1, epsMatrix2)"
   ]
  },
  {
   "cell_type": "code",
   "execution_count": 29,
   "metadata": {},
   "outputs": [],
   "source": [
    "bra = twoBrownianMotionCorrelated(0.5,100,252)[0]"
   ]
  },
  {
   "cell_type": "code",
   "execution_count": 31,
   "metadata": {},
   "outputs": [
    {
     "data": {
      "text/plain": [
       "(100, 252)"
      ]
     },
     "execution_count": 31,
     "metadata": {},
     "output_type": "execute_result"
    }
   ],
   "source": []
  },
  {
   "cell_type": "code",
   "execution_count": 79,
   "metadata": {},
   "outputs": [],
   "source": [
    "dt = 1/252\n",
    "log100 = np.log(100)\n",
    "epsMatrix = np.random.normal(size=(100,252))\n",
    "dlogSMatrix = (0.05-check/2)*dt+check*np.sqrt(dt)*twoBrownianMotionCorrelated(-0.5,100,252)[1]\n",
    "pathsMatrix = np.zeros(shape=(100,252))\n",
    "pathsMatrix[:,0] = log100\n",
    "for i in range(1, 252):\n",
    "    pathsMatrix[:,i] = pathsMatrix[:,i-1]+dlogSMatrix[:,i]\n",
    "pathsMatrix = np.exp(pathsMatrix)"
   ]
  },
  {
   "cell_type": "code",
   "execution_count": 80,
   "metadata": {},
   "outputs": [
    {
     "data": {
      "text/plain": [
       "array([[100.        , 101.35524302, 102.71011756, ..., 226.57175143,\n",
       "        226.61672946, 226.6616787 ],\n",
       "       [100.        ,  97.24006257,  94.56327997, ...,   0.44799363,\n",
       "          0.44021973,   0.43259012],\n",
       "       [100.        , 100.57710752, 101.15393532, ..., 215.27473876,\n",
       "        215.60608006, 215.93652814],\n",
       "       ...,\n",
       "       [100.        , 100.71001853, 101.41444502, ..., 149.40922219,\n",
       "        149.43888142, 149.46852333],\n",
       "       [100.        ,  99.37462647,  98.75694065, ...,  43.36618031,\n",
       "         43.29546778,  43.2251966 ],\n",
       "       [100.        ,  99.98160464,  99.96359348, ..., 101.66531131,\n",
       "        101.68377141, 101.70226494]])"
      ]
     },
     "execution_count": 80,
     "metadata": {},
     "output_type": "execute_result"
    }
   ],
   "source": [
    "pathsMatrix"
   ]
  },
  {
   "cell_type": "code",
   "execution_count": 81,
   "metadata": {},
   "outputs": [
    {
     "data": {
      "image/png": "[encoded data removed]",
      "text/plain": [
       "<Figure size 432x288 with 1 Axes>"
      ]
     },
     "metadata": {
      "needs_background": "light"
     },
     "output_type": "display_data"
    }
   ],
   "source": [
    "import matplotlib.pyplot as plt\n",
    "for i in range(100):\n",
    "    plt.plot(pathsMatrix[i,:])"
   ]
  },
  {
   "cell_type": "code",
   "execution_count": null,
   "metadata": {},
   "outputs": [],
   "source": []
  }
 ],
 "metadata": {
  "kernelspec": {
   "display_name": "Python 3",
   "language": "python",
   "name": "python3"
  },
  "language_info": {
   "codemirror_mode": {
    "name": "ipython",
    "version": 3
   },
   "file_extension": ".py",
   "mimetype": "text/x-python",
   "name": "python",
   "nbconvert_exporter": "python",
   "pygments_lexer": "ipython3",
   "version": "3.7.7"
  }
 },
 "nbformat": 4,
 "nbformat_minor": 4
}
